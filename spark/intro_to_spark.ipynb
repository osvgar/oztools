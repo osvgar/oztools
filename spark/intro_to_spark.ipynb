{
 "cells": [
  {
   "cell_type": "markdown",
   "id": "457d0bfb-28ef-4be8-b836-7b30a172e978",
   "metadata": {},
   "source": [
    "### `Spark Demo`"
   ]
  },
  {
   "cell_type": "markdown",
   "id": "6f8593d7-a52d-422f-8309-57a5db175571",
   "metadata": {},
   "source": [
    "### What is Spark?\n",
    "https://spark.apache.org/\n",
    "\n",
    "Spark is an open-source analytics engine for executing data engineering, data science and machine learning on big data workloads."
   ]
  },
  {
   "cell_type": "code",
   "execution_count": 1,
   "id": "7189fabd",
   "metadata": {},
   "outputs": [],
   "source": [
    "# Imports\n",
    "from IPython.display import display, Markdown\n",
    "from pyspark.sql import SparkSession, functions as F, types as T"
   ]
  },
  {
   "cell_type": "markdown",
   "id": "7c8fa17d",
   "metadata": {},
   "source": [
    "https://spark.apache.org/docs/3.1.1/api/python/getting_started/quickstart.html"
   ]
  },
  {
   "cell_type": "code",
   "execution_count": 2,
   "id": "0d46da12",
   "metadata": {},
   "outputs": [],
   "source": [
    "spark = SparkSession.builder \\\n",
    "        .master(\"local[*]\") \\\n",
    "        .config(\"spark.sql.repl.eagerEval.enabled\", \"true\") \\\n",
    "        .appName(\"mySpark\") \\\n",
    "        .getOrCreate()"
   ]
  },
  {
   "cell_type": "markdown",
   "id": "1827b995-fbb8-499f-8232-bda3ff6901f8",
   "metadata": {},
   "source": [
    "##### Set config values *after* the session has been created\n",
    "All configurable parameters are available here: https://spark.apache.org/docs/latest/configuration.html \n",
    "<br>In this example: The max number of characters for each cell that is returned by eager evaluation. Eager evaluation must be on."
   ]
  },
  {
   "cell_type": "code",
   "execution_count": 4,
   "id": "c179ef16-38ed-4623-a0e3-c7d140711e92",
   "metadata": {},
   "outputs": [],
   "source": [
    "spark.conf.set(\"spark.sql.repl.eagerEval.truncate\", 512)"
   ]
  },
  {
   "cell_type": "code",
   "execution_count": 6,
   "id": "566c6779",
   "metadata": {},
   "outputs": [
    {
     "data": {
      "text/html": [
       "\n",
       "            <div>\n",
       "                <p><b>SparkSession - in-memory</b></p>\n",
       "                \n",
       "        <div>\n",
       "            <p><b>SparkContext</b></p>\n",
       "\n",
       "            <p><a href=\"http://oz-surf4.lan.overgroup.com:4040\">Spark UI</a></p>\n",
       "\n",
       "            <dl>\n",
       "              <dt>Version</dt>\n",
       "                <dd><code>v3.2.1</code></dd>\n",
       "              <dt>Master</dt>\n",
       "                <dd><code>local[*]</code></dd>\n",
       "              <dt>AppName</dt>\n",
       "                <dd><code>mySpark</code></dd>\n",
       "            </dl>\n",
       "        </div>\n",
       "        \n",
       "            </div>\n",
       "        "
      ],
      "text/plain": [
       "<pyspark.sql.session.SparkSession at 0x265d2a63700>"
      ]
     },
     "execution_count": 6,
     "metadata": {},
     "output_type": "execute_result"
    }
   ],
   "source": [
    "# Display Spark UI\n",
    "spark"
   ]
  },
  {
   "cell_type": "markdown",
   "id": "7f52d15f",
   "metadata": {},
   "source": [
    "#### Importing data into Spark\n",
    "###### JSON and CSV"
   ]
  },
  {
   "cell_type": "code",
   "execution_count": 8,
   "id": "5caf167e",
   "metadata": {},
   "outputs": [],
   "source": [
    "path_to_json_file = 'booksdata.json'\n",
    "path_to_csv_file_1 = 'region.txt'\n",
    "path_to_csv_file_2 = 'nation.tbl'"
   ]
  },
  {
   "cell_type": "code",
   "execution_count": 9,
   "id": "1f42ca7f",
   "metadata": {},
   "outputs": [],
   "source": [
    "# JSON import, a simple case\n",
    "df_from_json = spark.read.option('multiline', 'true').json(path_to_json_file)"
   ]
  },
  {
   "cell_type": "code",
   "execution_count": 13,
   "id": "cad88a0b",
   "metadata": {},
   "outputs": [
    {
     "name": "stdout",
     "output_type": "stream",
     "text": [
      "+-----------+-----------+--------------------+\n",
      "|r_regionkey|     r_name|           r_comment|\n",
      "+-----------+-----------+--------------------+\n",
      "|          0|     AFRICA|lar deposits. bli...|\n",
      "|          1|    AMERICA|hs use ironic, ev...|\n",
      "|          2|       ASIA|ges. thinly even ...|\n",
      "|          3|     EUROPE|ly final courts c...|\n",
      "|          4|MIDDLE EAST|uickly special ac...|\n",
      "+-----------+-----------+--------------------+\n",
      "\n"
     ]
    }
   ],
   "source": [
    "# Import CSV file with schema\n",
    "df_region = spark.read.csv(path_to_csv_file_1, header=True, sep=';', inferSchema=True)\n",
    "\n",
    "df_region.show(truncate=True)"
   ]
  },
  {
   "cell_type": "markdown",
   "id": "8d0a6e57-1e4c-4a70-9eeb-f02684b916b6",
   "metadata": {},
   "source": [
    "##### Inspect data, some useful functions"
   ]
  },
  {
   "cell_type": "code",
   "execution_count": 14,
   "id": "1e9b5d81-6ebb-42cc-a9c7-933a163743fc",
   "metadata": {},
   "outputs": [
    {
     "data": {
      "text/plain": [
       "['r_regionkey', 'r_name', 'r_comment']"
      ]
     },
     "metadata": {},
     "output_type": "display_data"
    }
   ],
   "source": [
    "# List the columns \n",
    "display(df_region.columns)"
   ]
  },
  {
   "cell_type": "code",
   "execution_count": 15,
   "id": "2aa75e6b-d2ee-4ab0-98b3-f1ebcec59700",
   "metadata": {},
   "outputs": [
    {
     "name": "stdout",
     "output_type": "stream",
     "text": [
      "+-----------+-----------+--------------------+\n",
      "|r_regionkey|     r_name|           r_comment|\n",
      "+-----------+-----------+--------------------+\n",
      "|          0|     AFRICA|lar deposits. bli...|\n",
      "|          1|    AMERICA|hs use ironic, ev...|\n",
      "|          2|       ASIA|ges. thinly even ...|\n",
      "|          3|     EUROPE|ly final courts c...|\n",
      "|          4|MIDDLE EAST|uickly special ac...|\n",
      "+-----------+-----------+--------------------+\n",
      "\n"
     ]
    }
   ],
   "source": [
    "# Display all the records\n",
    "df_region.show()"
   ]
  },
  {
   "cell_type": "code",
   "execution_count": 16,
   "id": "e12a7e80-f305-4474-a172-7ec466e31295",
   "metadata": {},
   "outputs": [
    {
     "data": {
      "text/plain": [
       "[('r_regionkey', 'int'), ('r_name', 'string'), ('r_comment', 'string')]"
      ]
     },
     "execution_count": 16,
     "metadata": {},
     "output_type": "execute_result"
    }
   ],
   "source": [
    "# Show the columns and their data types\n",
    "df_region.dtypes"
   ]
  },
  {
   "cell_type": "code",
   "execution_count": 17,
   "id": "e950ff50-1b2d-4bcd-a23f-6633359d6c21",
   "metadata": {},
   "outputs": [
    {
     "data": {
      "text/markdown": [
       "#### Close up inspection of the data types"
      ],
      "text/plain": [
       "<IPython.core.display.Markdown object>"
      ]
     },
     "metadata": {},
     "output_type": "display_data"
    },
    {
     "data": {
      "text/markdown": [
       "[('r_regionkey', '**int**'), ('r_name', '**string**'), ('r_comment', '**string**')]"
      ],
      "text/plain": [
       "<IPython.core.display.Markdown object>"
      ]
     },
     "metadata": {},
     "output_type": "display_data"
    },
    {
     "data": {
      "text/markdown": [
       "#### Re-import the data frame without the `inferSchema=True` option"
      ],
      "text/plain": [
       "<IPython.core.display.Markdown object>"
      ]
     },
     "metadata": {},
     "output_type": "display_data"
    },
    {
     "data": {
      "text/markdown": [
       "[('r_regionkey', '**string**'), ('r_name', '**string**'), ('r_comment', '**string**')]"
      ],
      "text/plain": [
       "<IPython.core.display.Markdown object>"
      ]
     },
     "metadata": {},
     "output_type": "display_data"
    }
   ],
   "source": [
    "display(Markdown(\"#### Close up inspection of the data types\"))\n",
    "display(Markdown(\"[('r_regionkey', '**int**'), ('r_name', '**string**'), ('r_comment', '**string**')]\"))\n",
    "display(Markdown(\"#### Re-import the data frame without the `inferSchema=True` option\"))\n",
    "\n",
    "df_region = spark.read.csv(path_to_csv_file_1, header=True, sep=';')\n",
    "display(Markdown(f\"{df_region.dtypes}\".replace('string', \"**string**\")))"
   ]
  },
  {
   "cell_type": "markdown",
   "id": "fb4e67eb-d232-41f2-9c33-b17eca1cf24e",
   "metadata": {},
   "source": [
    "#### Import a schema-less file"
   ]
  },
  {
   "cell_type": "code",
   "execution_count": 19,
   "id": "83ab25c0",
   "metadata": {},
   "outputs": [],
   "source": [
    "nation_columns = ['n_nationkey', 'n_name', 'n_regionkey', 'n_comment']\n",
    "\n",
    "# Create a new struct type, assign Integer type to all the field with the value 'key' in them\n",
    "nation_schema = T.StructType(\n",
    "    [\n",
    "        T.StructField(c, T.IntegerType() if 'key' in c else T.StringType(), True)\n",
    "        for c in nation_columns\n",
    "    ]\n",
    ")"
   ]
  },
  {
   "cell_type": "code",
   "execution_count": 20,
   "id": "16506031",
   "metadata": {},
   "outputs": [],
   "source": [
    "df_nation = spark.read.csv(path_to_csv_file_2, schema=nation_schema, header=False, sep='|')"
   ]
  },
  {
   "cell_type": "code",
   "execution_count": 21,
   "id": "36edab00-61c8-470a-965e-43171e6d1f25",
   "metadata": {},
   "outputs": [
    {
     "data": {
      "text/plain": [
       "Row(n_nationkey=0, n_name='ALGERIA', n_regionkey=0, n_comment=' haggle. carefully final deposits detect slyly agai')"
      ]
     },
     "execution_count": 21,
     "metadata": {},
     "output_type": "execute_result"
    }
   ],
   "source": [
    "# Some other functions to inspect the data\n",
    "df_nation.first() # return the first row"
   ]
  },
  {
   "cell_type": "code",
   "execution_count": 22,
   "id": "080adc4f-e620-4a73-8a33-2035ca0bf536",
   "metadata": {},
   "outputs": [
    {
     "data": {
      "text/plain": [
       "[Row(n_nationkey=0, n_name='ALGERIA', n_regionkey=0, n_comment=' haggle. carefully final deposits detect slyly agai'),\n",
       " Row(n_nationkey=1, n_name='ARGENTINA', n_regionkey=1, n_comment='al foxes promise slyly according to the regular accounts. bold requests alon'),\n",
       " Row(n_nationkey=2, n_name='BRAZIL', n_regionkey=1, n_comment='y alongside of the pending deposits. carefully special packages are about the ironic forges. slyly special ')]"
      ]
     },
     "execution_count": 22,
     "metadata": {},
     "output_type": "execute_result"
    }
   ],
   "source": [
    "df_nation.take(3) # return the first 3 rows"
   ]
  },
  {
   "cell_type": "code",
   "execution_count": 23,
   "id": "b5dcaa6a-b279-4772-8a9b-d13d3f5d52a0",
   "metadata": {},
   "outputs": [
    {
     "data": {
      "text/plain": [
       "[Row(n_nationkey=0, n_name='ALGERIA', n_regionkey=0, n_comment=' haggle. carefully final deposits detect slyly agai'),\n",
       " Row(n_nationkey=1, n_name='ARGENTINA', n_regionkey=1, n_comment='al foxes promise slyly according to the regular accounts. bold requests alon')]"
      ]
     },
     "execution_count": 23,
     "metadata": {},
     "output_type": "execute_result"
    }
   ],
   "source": [
    "df_nation.head(2) # return the first n rows"
   ]
  },
  {
   "cell_type": "code",
   "execution_count": 24,
   "id": "f043cc8f-9c2d-4605-a54b-9abf3a6f622e",
   "metadata": {
    "tags": []
   },
   "outputs": [
    {
     "data": {
      "text/plain": [
       "StructType(List(StructField(n_nationkey,IntegerType,true),StructField(n_name,StringType,true),StructField(n_regionkey,IntegerType,true),StructField(n_comment,StringType,true)))"
      ]
     },
     "execution_count": 24,
     "metadata": {},
     "output_type": "execute_result"
    }
   ],
   "source": [
    "# Print the schema \n",
    "df_nation.schema"
   ]
  },
  {
   "cell_type": "markdown",
   "id": "828585b5",
   "metadata": {},
   "source": [
    "#### Queries using SQL\n",
    "Spark API: https://spark.apache.org/docs/latest/sql-programming-guide.html"
   ]
  },
  {
   "cell_type": "code",
   "execution_count": 25,
   "id": "01a80132-3908-42b7-8385-478026389e87",
   "metadata": {},
   "outputs": [
    {
     "name": "stdout",
     "output_type": "stream",
     "text": [
      "root\n",
      " |-- authors: array (nullable = true)\n",
      " |    |-- element: struct (containsNull = true)\n",
      " |    |    |-- age: long (nullable = true)\n",
      " |    |    |-- first: string (nullable = true)\n",
      " |    |    |-- last: string (nullable = true)\n",
      " |-- date: string (nullable = true)\n",
      " |-- isbn: string (nullable = true)\n",
      " |-- price: double (nullable = true)\n",
      " |-- publisher: struct (nullable = true)\n",
      " |    |-- address: struct (nullable = true)\n",
      " |    |    |-- city: string (nullable = true)\n",
      " |    |    |-- country: string (nullable = true)\n",
      " |    |    |-- number: string (nullable = true)\n",
      " |    |    |-- street: string (nullable = true)\n",
      " |    |-- name: string (nullable = true)\n",
      " |    |-- phone: string (nullable = true)\n",
      " |-- title: string (nullable = true)\n",
      "\n"
     ]
    }
   ],
   "source": [
    "# Display the schema, to have a clear view of the columns in our data frame\n",
    "df_from_json.printSchema()"
   ]
  },
  {
   "cell_type": "markdown",
   "id": "62d8a01f-2682-4453-83bf-0951bb1464f3",
   "metadata": {},
   "source": [
    "#### Before query using SQL, we must register the dataframe as a table"
   ]
  },
  {
   "cell_type": "code",
   "execution_count": 26,
   "id": "8736adce-aa40-469b-b98c-28b27456bef9",
   "metadata": {},
   "outputs": [
    {
     "data": {
      "text/plain": [
       "1000"
      ]
     },
     "execution_count": 26,
     "metadata": {},
     "output_type": "execute_result"
    }
   ],
   "source": [
    "# Display how many rows we are dealing with\n",
    "df_from_json.count()"
   ]
  },
  {
   "cell_type": "code",
   "execution_count": 27,
   "id": "422359db-62e4-4b0d-952b-252b693ba16f",
   "metadata": {},
   "outputs": [],
   "source": [
    "# Can be made global as well. Global views are shared among different sessions\n",
    "df_from_json.createOrReplaceTempView('books')\n",
    "\n",
    "query = '''\n",
    "    select title, price\n",
    "    from books\n",
    "    where price < 20\n",
    "    and year(to_date(date, 'M/d/yyyy')) = 2017\n",
    "    order by price desc\n",
    "'''"
   ]
  },
  {
   "cell_type": "code",
   "execution_count": 28,
   "id": "db5d0fae-c442-4042-a1d8-01ce9258d722",
   "metadata": {},
   "outputs": [
    {
     "data": {
      "text/html": [
       "<table border='1'>\n",
       "<tr><th>title</th><th>price</th></tr>\n",
       "<tr><td>The Land Before Time XIII: The Wisdom of Friends</td><td>19.94</td></tr>\n",
       "<tr><td>Andromeda Strain, The</td><td>19.92</td></tr>\n",
       "<tr><td>Halloweentown</td><td>19.91</td></tr>\n",
       "<tr><td>Ankur (The Seedling)</td><td>19.88</td></tr>\n",
       "<tr><td>Tarzan Escapes</td><td>19.84</td></tr>\n",
       "<tr><td>Rembrandt</td><td>19.83</td></tr>\n",
       "<tr><td>Run</td><td>19.81</td></tr>\n",
       "<tr><td>My Bodyguard</td><td>19.79</td></tr>\n",
       "<tr><td>Cool, Dry Place, A</td><td>19.76</td></tr>\n",
       "<tr><td>Blood of a Poet, The (Sang d&#x27;un poète, Le)</td><td>19.71</td></tr>\n",
       "</table>\n"
      ],
      "text/plain": [
       "+------------------------------------------------+-----+\n",
       "|                                           title|price|\n",
       "+------------------------------------------------+-----+\n",
       "|The Land Before Time XIII: The Wisdom of Friends|19.94|\n",
       "|                           Andromeda Strain, The|19.92|\n",
       "|                                   Halloweentown|19.91|\n",
       "|                            Ankur (The Seedling)|19.88|\n",
       "|                                  Tarzan Escapes|19.84|\n",
       "|                                       Rembrandt|19.83|\n",
       "|                                             Run|19.81|\n",
       "|                                    My Bodyguard|19.79|\n",
       "|                              Cool, Dry Place, A|19.76|\n",
       "|      Blood of a Poet, The (Sang d'un poète, Le)|19.71|\n",
       "+------------------------------------------------+-----+"
      ]
     },
     "execution_count": 28,
     "metadata": {},
     "output_type": "execute_result"
    }
   ],
   "source": [
    "# Run query\n",
    "spark.sql(query).limit(10)"
   ]
  },
  {
   "cell_type": "markdown",
   "id": "fede86f5-43fb-47bc-9b8d-0a1dc7dea44e",
   "metadata": {},
   "source": [
    "#### Queries using built-in functions"
   ]
  },
  {
   "cell_type": "code",
   "execution_count": 29,
   "id": "b60a80f1-0c04-4c6b-b93c-e7423f989992",
   "metadata": {},
   "outputs": [
    {
     "data": {
      "text/html": [
       "<table border='1'>\n",
       "<tr><th>n_name</th></tr>\n",
       "<tr><td>ALGERIA</td></tr>\n",
       "<tr><td>ARGENTINA</td></tr>\n",
       "<tr><td>BRAZIL</td></tr>\n",
       "<tr><td>CANADA</td></tr>\n",
       "<tr><td>EGYPT</td></tr>\n",
       "</table>\n"
      ],
      "text/plain": [
       "+---------+\n",
       "|   n_name|\n",
       "+---------+\n",
       "|  ALGERIA|\n",
       "|ARGENTINA|\n",
       "|   BRAZIL|\n",
       "|   CANADA|\n",
       "|    EGYPT|\n",
       "+---------+"
      ]
     },
     "execution_count": 29,
     "metadata": {},
     "output_type": "execute_result"
    }
   ],
   "source": [
    "# Select\n",
    "df_nation.select(\"n_name\").limit(5)"
   ]
  },
  {
   "cell_type": "code",
   "execution_count": 36,
   "id": "e0106d85-11b1-4d9a-a071-0d48a387fe85",
   "metadata": {},
   "outputs": [
    {
     "data": {
      "text/html": [
       "<table border='1'>\n",
       "<tr><th>isbn</th><th>title</th><th>col</th></tr>\n",
       "<tr><td>846896359-3</td><td>Jungle Book 2, The</td><td>Ashley</td></tr>\n",
       "<tr><td>846896359-3</td><td>Jungle Book 2, The</td><td>Finley</td></tr>\n",
       "<tr><td>846896359-3</td><td>Jungle Book 2, The</td><td>Bullus</td></tr>\n",
       "<tr><td>558973823-7</td><td>Star Trek III: The Search for Spock</td><td>Ibel</td></tr>\n",
       "<tr><td>558973823-7</td><td>Star Trek III: The Search for Spock</td><td>Grasner</td></tr>\n",
       "<tr><td>558973823-7</td><td>Star Trek III: The Search for Spock</td><td>Laven</td></tr>\n",
       "<tr><td>558973823-7</td><td>Star Trek III: The Search for Spock</td><td>Lapsley</td></tr>\n",
       "<tr><td>411502148-9</td><td>Verdict, The</td><td>Broadist</td></tr>\n",
       "<tr><td>411502148-9</td><td>Verdict, The</td><td>Mugleston</td></tr>\n",
       "<tr><td>411502148-9</td><td>Verdict, The</td><td>Mannock</td></tr>\n",
       "</table>\n"
      ],
      "text/plain": [
       "+-----------+-----------------------------------+---------+\n",
       "|       isbn|                              title|      col|\n",
       "+-----------+-----------------------------------+---------+\n",
       "|846896359-3|                 Jungle Book 2, The|   Ashley|\n",
       "|846896359-3|                 Jungle Book 2, The|   Finley|\n",
       "|846896359-3|                 Jungle Book 2, The|   Bullus|\n",
       "|558973823-7|Star Trek III: The Search for Spock|     Ibel|\n",
       "|558973823-7|Star Trek III: The Search for Spock|  Grasner|\n",
       "|558973823-7|Star Trek III: The Search for Spock|    Laven|\n",
       "|558973823-7|Star Trek III: The Search for Spock|  Lapsley|\n",
       "|411502148-9|                       Verdict, The| Broadist|\n",
       "|411502148-9|                       Verdict, The|Mugleston|\n",
       "|411502148-9|                       Verdict, The|  Mannock|\n",
       "+-----------+-----------------------------------+---------+"
      ]
     },
     "execution_count": 36,
     "metadata": {},
     "output_type": "execute_result"
    }
   ],
   "source": [
    "# Select, unnesting an array\n",
    "df_from_json.select(\"isbn\", \"title\", F.explode(\"authors.last\")).limit(10)"
   ]
  },
  {
   "cell_type": "code",
   "execution_count": 37,
   "id": "c19eb27e",
   "metadata": {},
   "outputs": [
    {
     "data": {
      "text/html": [
       "<table border='1'>\n",
       "<tr><th>isbn</th><th>title</th><th>date_published</th></tr>\n",
       "<tr><td>846896359-3</td><td>Jungle Book 2, The</td><td>12/28/2017</td></tr>\n",
       "<tr><td>558973823-7</td><td>Star Trek III: The Search for Spock</td><td>4/19/2017</td></tr>\n",
       "<tr><td>411502148-9</td><td>Verdict, The</td><td>10/3/2017</td></tr>\n",
       "<tr><td>449293194-5</td><td>Other Dream Team, The</td><td>2/6/2018</td></tr>\n",
       "<tr><td>406062162-5</td><td>Ong-Bak: The Thai Warrior (Ong Bak)</td><td>3/15/2018</td></tr>\n",
       "<tr><td>952684615-X</td><td>Asphalt Playground (La cité rose)</td><td>8/20/2017</td></tr>\n",
       "<tr><td>737347720-8</td><td>Children of Leningradsky, The</td><td>3/19/2018</td></tr>\n",
       "<tr><td>185454892-1</td><td>Eyewitness (Janitor, The)</td><td>3/13/2018</td></tr>\n",
       "<tr><td>537833183-8</td><td>Desk Set</td><td>7/25/2017</td></tr>\n",
       "<tr><td>751635055-9</td><td>Last Truck: Closing of a GM Plant, The</td><td>10/3/2017</td></tr>\n",
       "</table>\n"
      ],
      "text/plain": [
       "+-----------+--------------------------------------+--------------+\n",
       "|       isbn|                                 title|date_published|\n",
       "+-----------+--------------------------------------+--------------+\n",
       "|846896359-3|                    Jungle Book 2, The|    12/28/2017|\n",
       "|558973823-7|   Star Trek III: The Search for Spock|     4/19/2017|\n",
       "|411502148-9|                          Verdict, The|     10/3/2017|\n",
       "|449293194-5|                 Other Dream Team, The|      2/6/2018|\n",
       "|406062162-5|   Ong-Bak: The Thai Warrior (Ong Bak)|     3/15/2018|\n",
       "|952684615-X|     Asphalt Playground (La cité rose)|     8/20/2017|\n",
       "|737347720-8|         Children of Leningradsky, The|     3/19/2018|\n",
       "|185454892-1|             Eyewitness (Janitor, The)|     3/13/2018|\n",
       "|537833183-8|                              Desk Set|     7/25/2017|\n",
       "|751635055-9|Last Truck: Closing of a GM Plant, The|     10/3/2017|\n",
       "+-----------+--------------------------------------+--------------+"
      ]
     },
     "execution_count": 37,
     "metadata": {},
     "output_type": "execute_result"
    }
   ],
   "source": [
    "# Select using a column alias\n",
    "df_from_json.select(\"isbn\", \"title\", F.col('date').alias('date_published')).limit(10)"
   ]
  },
  {
   "cell_type": "markdown",
   "id": "35883487-2099-491b-9df6-6f24578e7805",
   "metadata": {},
   "source": [
    "#### Create a date type column"
   ]
  },
  {
   "cell_type": "code",
   "execution_count": 38,
   "id": "72a7f8ee-e5aa-4629-aaa2-30f577b39a85",
   "metadata": {},
   "outputs": [],
   "source": [
    "df_from_json = df_from_json.withColumn(\n",
    "    'cast_date',\n",
    "    F.to_date('date', 'M/d/y') # MM/dd/yyyy would fail if some dates don't comply with this format, using single mask values will work for every combination\n",
    ")"
   ]
  },
  {
   "cell_type": "code",
   "execution_count": 39,
   "id": "bade7bb3-d060-4cfa-bdf1-5d997b32baeb",
   "metadata": {},
   "outputs": [
    {
     "name": "stdout",
     "output_type": "stream",
     "text": [
      "root\n",
      " |-- authors: array (nullable = true)\n",
      " |    |-- element: struct (containsNull = true)\n",
      " |    |    |-- age: long (nullable = true)\n",
      " |    |    |-- first: string (nullable = true)\n",
      " |    |    |-- last: string (nullable = true)\n",
      " |-- date: string (nullable = true)\n",
      " |-- isbn: string (nullable = true)\n",
      " |-- price: double (nullable = true)\n",
      " |-- publisher: struct (nullable = true)\n",
      " |    |-- address: struct (nullable = true)\n",
      " |    |    |-- city: string (nullable = true)\n",
      " |    |    |-- country: string (nullable = true)\n",
      " |    |    |-- number: string (nullable = true)\n",
      " |    |    |-- street: string (nullable = true)\n",
      " |    |-- name: string (nullable = true)\n",
      " |    |-- phone: string (nullable = true)\n",
      " |-- title: string (nullable = true)\n",
      " |-- cast_date: date (nullable = true)\n",
      "\n"
     ]
    }
   ],
   "source": [
    "df_from_json.printSchema()"
   ]
  },
  {
   "cell_type": "markdown",
   "id": "07375565-e518-4472-aa27-e539f8520e5e",
   "metadata": {},
   "source": [
    "#### Drop a column"
   ]
  },
  {
   "cell_type": "code",
   "execution_count": 40,
   "id": "eb6372bf-585c-4535-918c-1dd770f55cad",
   "metadata": {},
   "outputs": [
    {
     "name": "stdout",
     "output_type": "stream",
     "text": [
      "root\n",
      " |-- authors: array (nullable = true)\n",
      " |    |-- element: struct (containsNull = true)\n",
      " |    |    |-- age: long (nullable = true)\n",
      " |    |    |-- first: string (nullable = true)\n",
      " |    |    |-- last: string (nullable = true)\n",
      " |-- isbn: string (nullable = true)\n",
      " |-- price: double (nullable = true)\n",
      " |-- publisher: struct (nullable = true)\n",
      " |    |-- address: struct (nullable = true)\n",
      " |    |    |-- city: string (nullable = true)\n",
      " |    |    |-- country: string (nullable = true)\n",
      " |    |    |-- number: string (nullable = true)\n",
      " |    |    |-- street: string (nullable = true)\n",
      " |    |-- name: string (nullable = true)\n",
      " |    |-- phone: string (nullable = true)\n",
      " |-- title: string (nullable = true)\n",
      " |-- cast_date: date (nullable = true)\n",
      "\n"
     ]
    }
   ],
   "source": [
    "df_from_json = df_from_json.drop('date')\n",
    "df_from_json.printSchema()"
   ]
  },
  {
   "cell_type": "markdown",
   "id": "fe3ccd31-3515-4cad-95b1-8550b8361b98",
   "metadata": {},
   "source": [
    "#### Renaming a column"
   ]
  },
  {
   "cell_type": "code",
   "execution_count": 41,
   "id": "65a1a4c3-1afa-4b72-b95e-c8c34a79ec26",
   "metadata": {},
   "outputs": [
    {
     "name": "stdout",
     "output_type": "stream",
     "text": [
      "root\n",
      " |-- authors: array (nullable = true)\n",
      " |    |-- element: struct (containsNull = true)\n",
      " |    |    |-- age: long (nullable = true)\n",
      " |    |    |-- first: string (nullable = true)\n",
      " |    |    |-- last: string (nullable = true)\n",
      " |-- isbn: string (nullable = true)\n",
      " |-- price: double (nullable = true)\n",
      " |-- publisher: struct (nullable = true)\n",
      " |    |-- address: struct (nullable = true)\n",
      " |    |    |-- city: string (nullable = true)\n",
      " |    |    |-- country: string (nullable = true)\n",
      " |    |    |-- number: string (nullable = true)\n",
      " |    |    |-- street: string (nullable = true)\n",
      " |    |-- name: string (nullable = true)\n",
      " |    |-- phone: string (nullable = true)\n",
      " |-- title: string (nullable = true)\n",
      " |-- date: date (nullable = true)\n",
      "\n"
     ]
    }
   ],
   "source": [
    "df_from_json = df_from_json.withColumnRenamed('cast_date', 'date')\n",
    "df_from_json.printSchema()"
   ]
  },
  {
   "cell_type": "code",
   "execution_count": 44,
   "id": "49973fd4",
   "metadata": {},
   "outputs": [
    {
     "data": {
      "text/html": [
       "<table border='1'>\n",
       "<tr><th>title</th><th>year(date)</th><th>Modern literature</th></tr>\n",
       "<tr><td>Jungle Book 2, The</td><td>2017</td><td>Old book</td></tr>\n",
       "<tr><td>Star Trek III: The Search for Spock</td><td>2017</td><td>Old book</td></tr>\n",
       "<tr><td>Verdict, The</td><td>2017</td><td>Old book</td></tr>\n",
       "<tr><td>Other Dream Team, The</td><td>2018</td><td>Modern book</td></tr>\n",
       "<tr><td>Ong-Bak: The Thai Warrior (Ong Bak)</td><td>2018</td><td>Modern book</td></tr>\n",
       "<tr><td>Asphalt Playground (La cité rose)</td><td>2017</td><td>Old book</td></tr>\n",
       "<tr><td>Children of Leningradsky, The</td><td>2018</td><td>Modern book</td></tr>\n",
       "<tr><td>Eyewitness (Janitor, The)</td><td>2018</td><td>Modern book</td></tr>\n",
       "<tr><td>Desk Set</td><td>2017</td><td>Old book</td></tr>\n",
       "<tr><td>Last Truck: Closing of a GM Plant, The</td><td>2017</td><td>Old book</td></tr>\n",
       "<tr><td>Luther</td><td>2018</td><td>Modern book</td></tr>\n",
       "<tr><td>Breaking the Rules</td><td>2017</td><td>Old book</td></tr>\n",
       "<tr><td>Poolboy: Drowning Out the Fury</td><td>2017</td><td>Old book</td></tr>\n",
       "<tr><td>Gone</td><td>2017</td><td>Old book</td></tr>\n",
       "<tr><td>Jaguar</td><td>2018</td><td>Modern book</td></tr>\n",
       "<tr><td>King Lear</td><td>2017</td><td>Old book</td></tr>\n",
       "<tr><td>Life with Mikey</td><td>2017</td><td>Old book</td></tr>\n",
       "<tr><td>For Ever Mozart</td><td>2018</td><td>Modern book</td></tr>\n",
       "<tr><td>Bad Men of Missouri</td><td>2017</td><td>Old book</td></tr>\n",
       "<tr><td>Cranford</td><td>2018</td><td>Modern book</td></tr>\n",
       "</table>\n",
       "only showing top 20 rows\n"
      ],
      "text/plain": [
       "+--------------------------------------+----------+-----------------+\n",
       "|                                 title|year(date)|Modern literature|\n",
       "+--------------------------------------+----------+-----------------+\n",
       "|                    Jungle Book 2, The|      2017|         Old book|\n",
       "|   Star Trek III: The Search for Spock|      2017|         Old book|\n",
       "|                          Verdict, The|      2017|         Old book|\n",
       "|                 Other Dream Team, The|      2018|      Modern book|\n",
       "|   Ong-Bak: The Thai Warrior (Ong Bak)|      2018|      Modern book|\n",
       "|     Asphalt Playground (La cité rose)|      2017|         Old book|\n",
       "|         Children of Leningradsky, The|      2018|      Modern book|\n",
       "|             Eyewitness (Janitor, The)|      2018|      Modern book|\n",
       "|                              Desk Set|      2017|         Old book|\n",
       "|Last Truck: Closing of a GM Plant, The|      2017|         Old book|\n",
       "|                                Luther|      2018|      Modern book|\n",
       "|                    Breaking the Rules|      2017|         Old book|\n",
       "|        Poolboy: Drowning Out the Fury|      2017|         Old book|\n",
       "|                                  Gone|      2017|         Old book|\n",
       "|                                Jaguar|      2018|      Modern book|\n",
       "|                             King Lear|      2017|         Old book|\n",
       "|                       Life with Mikey|      2017|         Old book|\n",
       "|                       For Ever Mozart|      2018|      Modern book|\n",
       "|                   Bad Men of Missouri|      2017|         Old book|\n",
       "|                              Cranford|      2018|      Modern book|\n",
       "+--------------------------------------+----------+-----------------+\n",
       "only showing top 20 rows"
      ]
     },
     "execution_count": 44,
     "metadata": {},
     "output_type": "execute_result"
    }
   ],
   "source": [
    "# Now that we have a date column, we can do a lot more!\n",
    "\n",
    "# Select When \n",
    "df_from_json.select(\n",
    "    \"title\",\n",
    "    F.year(\"date\"),\n",
    "    F.when(\n",
    "        F.year(\"date\") >= 2018, \"Modern book\"\n",
    "    ).otherwise(\"Old book\").alias(\"Modern literature\")\n",
    ")"
   ]
  },
  {
   "cell_type": "markdown",
   "id": "bff10f39-0e2f-4ffa-8123-33bab31c0f15",
   "metadata": {},
   "source": [
    "#### String manipulation functions"
   ]
  },
  {
   "cell_type": "code",
   "execution_count": 45,
   "id": "7713d792-8db1-46cc-8043-9660830df15f",
   "metadata": {},
   "outputs": [
    {
     "data": {
      "text/html": [
       "<table border='1'>\n",
       "<tr><th>n_name</th><th>startswith(lower(n_name), ger)</th></tr>\n",
       "<tr><td>ALGERIA</td><td>false</td></tr>\n",
       "<tr><td>ARGENTINA</td><td>false</td></tr>\n",
       "<tr><td>BRAZIL</td><td>false</td></tr>\n",
       "<tr><td>CANADA</td><td>false</td></tr>\n",
       "<tr><td>EGYPT</td><td>false</td></tr>\n",
       "<tr><td>ETHIOPIA</td><td>false</td></tr>\n",
       "<tr><td>FRANCE</td><td>false</td></tr>\n",
       "<tr><td>GERMANY</td><td>true</td></tr>\n",
       "<tr><td>INDIA</td><td>false</td></tr>\n",
       "<tr><td>INDONESIA</td><td>false</td></tr>\n",
       "</table>\n"
      ],
      "text/plain": [
       "+---------+------------------------------+\n",
       "|   n_name|startswith(lower(n_name), ger)|\n",
       "+---------+------------------------------+\n",
       "|  ALGERIA|                         false|\n",
       "|ARGENTINA|                         false|\n",
       "|   BRAZIL|                         false|\n",
       "|   CANADA|                         false|\n",
       "|    EGYPT|                         false|\n",
       "| ETHIOPIA|                         false|\n",
       "|   FRANCE|                         false|\n",
       "|  GERMANY|                          true|\n",
       "|    INDIA|                         false|\n",
       "|INDONESIA|                         false|\n",
       "+---------+------------------------------+"
      ]
     },
     "metadata": {},
     "output_type": "display_data"
    }
   ],
   "source": [
    "# Using the function as a test (T or F)\n",
    "display(df_nation.select(\"n_name\", F.lower(\"n_name\").startswith('ger')).limit(10))"
   ]
  },
  {
   "cell_type": "code",
   "execution_count": 46,
   "id": "5d74a6d6-03e5-4717-85ed-f363588b9e87",
   "metadata": {},
   "outputs": [
    {
     "data": {
      "text/html": [
       "<table border='1'>\n",
       "<tr><th>n_name</th><th>n_comment</th></tr>\n",
       "<tr><td>BRAZIL</td><td>y alongside of the pending deposits. carefully special packages are about the ironic forges. slyly special </td></tr>\n",
       "</table>\n"
      ],
      "text/plain": [
       "+------+-----------------------------------------------------------------------------------------------------------+\n",
       "|n_name|                                                                                                  n_comment|\n",
       "+------+-----------------------------------------------------------------------------------------------------------+\n",
       "|BRAZIL|y alongside of the pending deposits. carefully special packages are about the ironic forges. slyly special |\n",
       "+------+-----------------------------------------------------------------------------------------------------------+"
      ]
     },
     "metadata": {},
     "output_type": "display_data"
    }
   ],
   "source": [
    "display(df_nation.select(\"n_name\", \"n_comment\").where(F.upper(\"n_name\").endswith('ZIL')))"
   ]
  },
  {
   "cell_type": "code",
   "execution_count": 47,
   "id": "81703803-514d-4185-b1f7-da04202871f5",
   "metadata": {},
   "outputs": [
    {
     "data": {
      "text/html": [
       "<table border='1'>\n",
       "<tr><th>n_name</th></tr>\n",
       "<tr><td>ALGERIA</td></tr>\n",
       "<tr><td>ETHIOPIA</td></tr>\n",
       "<tr><td>INDIA</td></tr>\n",
       "<tr><td>INDONESIA</td></tr>\n",
       "<tr><td>ROMANIA</td></tr>\n",
       "<tr><td>SAUDI ARABIA</td></tr>\n",
       "<tr><td>RUSSIA</td></tr>\n",
       "</table>\n"
      ],
      "text/plain": [
       "+------------+\n",
       "|      n_name|\n",
       "+------------+\n",
       "|     ALGERIA|\n",
       "|    ETHIOPIA|\n",
       "|       INDIA|\n",
       "|   INDONESIA|\n",
       "|     ROMANIA|\n",
       "|SAUDI ARABIA|\n",
       "|      RUSSIA|\n",
       "+------------+"
      ]
     },
     "execution_count": 47,
     "metadata": {},
     "output_type": "execute_result"
    }
   ],
   "source": [
    "# Contains function, similarly we can use between, like and substring\n",
    "df_nation.select(df_nation.n_name).where(F.col('n_name').contains('IA')).limit(10)"
   ]
  },
  {
   "cell_type": "markdown",
   "id": "62d34768-395c-4ea2-81ac-a2d3790476a7",
   "metadata": {},
   "source": [
    "#### Group by, filter and sort functions"
   ]
  },
  {
   "cell_type": "code",
   "execution_count": 48,
   "id": "c7986826-8c32-4d4e-bee9-8a598336c29d",
   "metadata": {},
   "outputs": [
    {
     "data": {
      "text/html": [
       "<table border='1'>\n",
       "<tr><th>n_regionkey</th><th>count</th></tr>\n",
       "<tr><td>1</td><td>5</td></tr>\n",
       "<tr><td>3</td><td>5</td></tr>\n",
       "<tr><td>4</td><td>5</td></tr>\n",
       "<tr><td>2</td><td>5</td></tr>\n",
       "<tr><td>0</td><td>5</td></tr>\n",
       "</table>\n"
      ],
      "text/plain": [
       "+-----------+-----+\n",
       "|n_regionkey|count|\n",
       "+-----------+-----+\n",
       "|          1|    5|\n",
       "|          3|    5|\n",
       "|          4|    5|\n",
       "|          2|    5|\n",
       "|          0|    5|\n",
       "+-----------+-----+"
      ]
     },
     "execution_count": 48,
     "metadata": {},
     "output_type": "execute_result"
    }
   ],
   "source": [
    "# Count number of nations per region\n",
    "df_nation.groupby('n_regionkey').count()"
   ]
  },
  {
   "cell_type": "code",
   "execution_count": 49,
   "id": "5e189d9e-7990-46d8-88ae-a72cbef32cef",
   "metadata": {},
   "outputs": [
    {
     "data": {
      "text/html": [
       "<table border='1'>\n",
       "<tr><th>title</th><th>date</th></tr>\n",
       "<tr><td>I Want You</td><td>2018-04-03</td></tr>\n",
       "<tr><td>Formula, The</td><td>2018-04-03</td></tr>\n",
       "<tr><td>Story of Esther Costello, The</td><td>2018-04-02</td></tr>\n",
       "<tr><td>Curse of the Cat People, The</td><td>2018-04-01</td></tr>\n",
       "<tr><td>Dam Busters, The</td><td>2018-04-01</td></tr>\n",
       "<tr><td>Playing by Heart</td><td>2018-04-01</td></tr>\n",
       "<tr><td>Momo</td><td>2018-04-01</td></tr>\n",
       "<tr><td>Chang: A Drama of the Wilderness</td><td>2018-03-31</td></tr>\n",
       "<tr><td>Rape Me (Baise-moi)</td><td>2018-03-31</td></tr>\n",
       "<tr><td>Vampire Effect (The Twins Effect) (Chin gei bin)</td><td>2018-03-31</td></tr>\n",
       "<tr><td>Luther</td><td>2018-03-30</td></tr>\n",
       "<tr><td>Anthony Zimmer</td><td>2018-03-30</td></tr>\n",
       "<tr><td>Timbuktu</td><td>2018-03-29</td></tr>\n",
       "<tr><td>Honeydripper</td><td>2018-03-28</td></tr>\n",
       "<tr><td>Mogambo</td><td>2018-03-28</td></tr>\n",
       "<tr><td>City of Ember</td><td>2018-03-28</td></tr>\n",
       "<tr><td>You Will Be My Son (Tu seras mon fils)</td><td>2018-03-28</td></tr>\n",
       "<tr><td>G.B.F.</td><td>2018-03-28</td></tr>\n",
       "<tr><td>For Ever Mozart</td><td>2018-03-27</td></tr>\n",
       "<tr><td>Rage: Carrie 2, The</td><td>2018-03-27</td></tr>\n",
       "</table>\n"
      ],
      "text/plain": [
       "+------------------------------------------------+----------+\n",
       "|                                           title|      date|\n",
       "+------------------------------------------------+----------+\n",
       "|                                      I Want You|2018-04-03|\n",
       "|                                    Formula, The|2018-04-03|\n",
       "|                   Story of Esther Costello, The|2018-04-02|\n",
       "|                    Curse of the Cat People, The|2018-04-01|\n",
       "|                                Dam Busters, The|2018-04-01|\n",
       "|                                Playing by Heart|2018-04-01|\n",
       "|                                            Momo|2018-04-01|\n",
       "|                Chang: A Drama of the Wilderness|2018-03-31|\n",
       "|                             Rape Me (Baise-moi)|2018-03-31|\n",
       "|Vampire Effect (The Twins Effect) (Chin gei bin)|2018-03-31|\n",
       "|                                          Luther|2018-03-30|\n",
       "|                                  Anthony Zimmer|2018-03-30|\n",
       "|                                        Timbuktu|2018-03-29|\n",
       "|                                    Honeydripper|2018-03-28|\n",
       "|                                         Mogambo|2018-03-28|\n",
       "|                                   City of Ember|2018-03-28|\n",
       "|          You Will Be My Son (Tu seras mon fils)|2018-03-28|\n",
       "|                                          G.B.F.|2018-03-28|\n",
       "|                                 For Ever Mozart|2018-03-27|\n",
       "|                             Rage: Carrie 2, The|2018-03-27|\n",
       "+------------------------------------------------+----------+"
      ]
     },
     "execution_count": 49,
     "metadata": {},
     "output_type": "execute_result"
    }
   ],
   "source": [
    "# Sort books by year published\n",
    "df_from_json.select(\"title\", \"date\").sort(F.col('date').desc()).limit(20)"
   ]
  },
  {
   "cell_type": "code",
   "execution_count": 50,
   "id": "a9d4fcb7-e47f-42d9-af9d-2409afc8c9d5",
   "metadata": {},
   "outputs": [
    {
     "data": {
      "text/html": [
       "<table border='1'>\n",
       "<tr><th>r_regionkey</th><th>r_name</th><th>r_comment</th></tr>\n",
       "<tr><td>3</td><td>EUROPE</td><td>ly final courts cajole furiously final excuse</td></tr>\n",
       "<tr><td>4</td><td>MIDDLE EAST</td><td>uickly special accounts cajole carefully blithely close requests. carefully final asymptotes haggle furiousl</td></tr>\n",
       "</table>\n"
      ],
      "text/plain": [
       "+-----------+-----------+------------------------------------------------------------------------------------------------------------+\n",
       "|r_regionkey|     r_name|                                                                                                   r_comment|\n",
       "+-----------+-----------+------------------------------------------------------------------------------------------------------------+\n",
       "|          3|     EUROPE|                                                               ly final courts cajole furiously final excuse|\n",
       "|          4|MIDDLE EAST|uickly special accounts cajole carefully blithely close requests. carefully final asymptotes haggle furiousl|\n",
       "+-----------+-----------+------------------------------------------------------------------------------------------------------------+"
      ]
     },
     "execution_count": 50,
     "metadata": {},
     "output_type": "execute_result"
    }
   ],
   "source": [
    "# Filter, with multiple ways to access the rows in a dataframe\n",
    "df_region.filter(df_region[\"r_regionkey\"] > 2)"
   ]
  },
  {
   "cell_type": "code",
   "execution_count": 51,
   "id": "f5542578-1d17-4c3f-bb3d-6aaec55801ee",
   "metadata": {},
   "outputs": [
    {
     "data": {
      "text/html": [
       "<table border='1'>\n",
       "<tr><th>r_regionkey</th><th>r_name</th><th>r_comment</th></tr>\n",
       "<tr><td>3</td><td>EUROPE</td><td>ly final courts cajole furiously final excuse</td></tr>\n",
       "<tr><td>4</td><td>MIDDLE EAST</td><td>uickly special accounts cajole carefully blithely close requests. carefully final asymptotes haggle furiousl</td></tr>\n",
       "</table>\n"
      ],
      "text/plain": [
       "+-----------+-----------+------------------------------------------------------------------------------------------------------------+\n",
       "|r_regionkey|     r_name|                                                                                                   r_comment|\n",
       "+-----------+-----------+------------------------------------------------------------------------------------------------------------+\n",
       "|          3|     EUROPE|                                                               ly final courts cajole furiously final excuse|\n",
       "|          4|MIDDLE EAST|uickly special accounts cajole carefully blithely close requests. carefully final asymptotes haggle furiousl|\n",
       "+-----------+-----------+------------------------------------------------------------------------------------------------------------+"
      ]
     },
     "execution_count": 51,
     "metadata": {},
     "output_type": "execute_result"
    }
   ],
   "source": [
    "df_region.filter(df_region.r_regionkey > 2)"
   ]
  },
  {
   "cell_type": "code",
   "execution_count": 52,
   "id": "3fc0777b-0011-4f56-b13c-394421f7c372",
   "metadata": {},
   "outputs": [
    {
     "data": {
      "text/html": [
       "<table border='1'>\n",
       "<tr><th>r_regionkey</th><th>r_name</th><th>r_comment</th></tr>\n",
       "<tr><td>3</td><td>EUROPE</td><td>ly final courts cajole furiously final excuse</td></tr>\n",
       "<tr><td>4</td><td>MIDDLE EAST</td><td>uickly special accounts cajole carefully blithely close requests. carefully final asymptotes haggle furiousl</td></tr>\n",
       "</table>\n"
      ],
      "text/plain": [
       "+-----------+-----------+------------------------------------------------------------------------------------------------------------+\n",
       "|r_regionkey|     r_name|                                                                                                   r_comment|\n",
       "+-----------+-----------+------------------------------------------------------------------------------------------------------------+\n",
       "|          3|     EUROPE|                                                               ly final courts cajole furiously final excuse|\n",
       "|          4|MIDDLE EAST|uickly special accounts cajole carefully blithely close requests. carefully final asymptotes haggle furiousl|\n",
       "+-----------+-----------+------------------------------------------------------------------------------------------------------------+"
      ]
     },
     "execution_count": 52,
     "metadata": {},
     "output_type": "execute_result"
    }
   ],
   "source": [
    "df_region.filter(F.col(\"r_regionkey\") > 2)"
   ]
  },
  {
   "cell_type": "markdown",
   "id": "49a43afb-63af-4d84-a47a-64aa810f1a16",
   "metadata": {},
   "source": [
    "#### Spark supports joins: outer, inner, right, left\n",
    "https://spark.apache.org/docs/latest/sql-ref-syntax-qry-select-join.html"
   ]
  },
  {
   "cell_type": "code",
   "execution_count": 53,
   "id": "76f75bfe-2f1d-4fc4-ad5c-c4328fdc6d16",
   "metadata": {},
   "outputs": [
    {
     "data": {
      "text/html": [
       "<table border='1'>\n",
       "<tr><th>r_name</th><th>n_name</th></tr>\n",
       "<tr><td>AMERICA</td><td>ARGENTINA</td></tr>\n",
       "<tr><td>AMERICA</td><td>BRAZIL</td></tr>\n",
       "<tr><td>AMERICA</td><td>CANADA</td></tr>\n",
       "<tr><td>AMERICA</td><td>PERU</td></tr>\n",
       "<tr><td>AMERICA</td><td>UNITED STATES</td></tr>\n",
       "</table>\n"
      ],
      "text/plain": [
       "+-------+-------------+\n",
       "| r_name|       n_name|\n",
       "+-------+-------------+\n",
       "|AMERICA|    ARGENTINA|\n",
       "|AMERICA|       BRAZIL|\n",
       "|AMERICA|       CANADA|\n",
       "|AMERICA|         PERU|\n",
       "|AMERICA|UNITED STATES|\n",
       "+-------+-------------+"
      ]
     },
     "execution_count": 53,
     "metadata": {},
     "output_type": "execute_result"
    }
   ],
   "source": [
    "df_region.join(df_nation, df_region.r_regionkey == df_nation.n_regionkey).select('r_name', 'n_name').where(F.col('r_name') == 'AMERICA')"
   ]
  },
  {
   "cell_type": "code",
   "execution_count": 54,
   "id": "75166286-d89d-4f46-8481-2e10202bc072",
   "metadata": {},
   "outputs": [
    {
     "data": {
      "text/markdown": [
       " Joining on df_region.**r_regionkey** == df_nation.**n_nationkey** (not the foreign key) to display some nulls and illustrate the joins"
      ],
      "text/plain": [
       "<IPython.core.display.Markdown object>"
      ]
     },
     "metadata": {},
     "output_type": "display_data"
    },
    {
     "data": {
      "text/html": [
       "<table border='1'>\n",
       "<tr><th>r_regionkey</th><th>r_name</th><th>r_comment</th><th>n_nationkey</th><th>n_name</th><th>n_regionkey</th><th>n_comment</th></tr>\n",
       "<tr><td>0</td><td>AFRICA</td><td>lar deposits. blithely final packages cajole. regular waters are final requests. regular accounts are according to </td><td>0</td><td>ALGERIA</td><td>0</td><td> haggle. carefully final deposits detect slyly agai</td></tr>\n",
       "<tr><td>1</td><td>AMERICA</td><td>hs use ironic, even requests. s</td><td>1</td><td>ARGENTINA</td><td>1</td><td>al foxes promise slyly according to the regular accounts. bold requests alon</td></tr>\n",
       "<tr><td>2</td><td>ASIA</td><td>ges. thinly even pinto beans ca</td><td>2</td><td>BRAZIL</td><td>1</td><td>y alongside of the pending deposits. carefully special packages are about the ironic forges. slyly special </td></tr>\n",
       "<tr><td>3</td><td>EUROPE</td><td>ly final courts cajole furiously final excuse</td><td>3</td><td>CANADA</td><td>1</td><td>eas hang ironic, silent packages. slyly regular packages are furiously over the tithes. fluffily bold</td></tr>\n",
       "<tr><td>4</td><td>MIDDLE EAST</td><td>uickly special accounts cajole carefully blithely close requests. carefully final asymptotes haggle furiousl</td><td>4</td><td>EGYPT</td><td>4</td><td>y above the carefully unusual theodolites. final dugouts are quickly across the furiously regular d</td></tr>\n",
       "<tr><td>null</td><td>null</td><td>null</td><td>5</td><td>ETHIOPIA</td><td>0</td><td>ven packages wake quickly. regu</td></tr>\n",
       "<tr><td>null</td><td>null</td><td>null</td><td>6</td><td>FRANCE</td><td>3</td><td>refully final requests. regular, ironi</td></tr>\n",
       "<tr><td>null</td><td>null</td><td>null</td><td>7</td><td>GERMANY</td><td>3</td><td>l platelets. regular accounts x-ray: unusual, regular acco</td></tr>\n",
       "<tr><td>null</td><td>null</td><td>null</td><td>8</td><td>INDIA</td><td>2</td><td>ss excuses cajole slyly across the packages. deposits print aroun</td></tr>\n",
       "<tr><td>null</td><td>null</td><td>null</td><td>9</td><td>INDONESIA</td><td>2</td><td> slyly express asymptotes. regular deposits haggle slyly. carefully ironic hockey players sleep blithely. carefull</td></tr>\n",
       "</table>\n"
      ],
      "text/plain": [
       "+-----------+-----------+-------------------------------------------------------------------------------------------------------------------+-----------+---------+-----------+------------------------------------------------------------------------------------------------------------------+\n",
       "|r_regionkey|     r_name|                                                                                                          r_comment|n_nationkey|   n_name|n_regionkey|                                                                                                         n_comment|\n",
       "+-----------+-----------+-------------------------------------------------------------------------------------------------------------------+-----------+---------+-----------+------------------------------------------------------------------------------------------------------------------+\n",
       "|          0|     AFRICA|lar deposits. blithely final packages cajole. regular waters are final requests. regular accounts are according to |          0|  ALGERIA|          0|                                                                haggle. carefully final deposits detect slyly agai|\n",
       "|          1|    AMERICA|                                                                                    hs use ironic, even requests. s|          1|ARGENTINA|          1|                                      al foxes promise slyly according to the regular accounts. bold requests alon|\n",
       "|          2|       ASIA|                                                                                    ges. thinly even pinto beans ca|          2|   BRAZIL|          1|       y alongside of the pending deposits. carefully special packages are about the ironic forges. slyly special |\n",
       "|          3|     EUROPE|                                                                      ly final courts cajole furiously final excuse|          3|   CANADA|          1|             eas hang ironic, silent packages. slyly regular packages are furiously over the tithes. fluffily bold|\n",
       "|          4|MIDDLE EAST|       uickly special accounts cajole carefully blithely close requests. carefully final asymptotes haggle furiousl|          4|    EGYPT|          4|               y above the carefully unusual theodolites. final dugouts are quickly across the furiously regular d|\n",
       "|       null|       null|                                                                                                               null|          5| ETHIOPIA|          0|                                                                                   ven packages wake quickly. regu|\n",
       "|       null|       null|                                                                                                               null|          6|   FRANCE|          3|                                                                            refully final requests. regular, ironi|\n",
       "|       null|       null|                                                                                                               null|          7|  GERMANY|          3|                                                        l platelets. regular accounts x-ray: unusual, regular acco|\n",
       "|       null|       null|                                                                                                               null|          8|    INDIA|          2|                                                 ss excuses cajole slyly across the packages. deposits print aroun|\n",
       "|       null|       null|                                                                                                               null|          9|INDONESIA|          2| slyly express asymptotes. regular deposits haggle slyly. carefully ironic hockey players sleep blithely. carefull|\n",
       "+-----------+-----------+-------------------------------------------------------------------------------------------------------------------+-----------+---------+-----------+------------------------------------------------------------------------------------------------------------------+"
      ]
     },
     "execution_count": 54,
     "metadata": {},
     "output_type": "execute_result"
    }
   ],
   "source": [
    "# Write joins specifying the join type\n",
    "display(Markdown(\" Joining on df_region.**r_regionkey** == df_nation.**n_nationkey** (not the foreign key) to display some nulls and illustrate the joins\"))\n",
    "df_region.join(df_nation, df_region.r_regionkey == df_nation.n_nationkey, \"right\").limit(10)"
   ]
  },
  {
   "cell_type": "code",
   "execution_count": 56,
   "id": "ee2528da-7029-4784-b0ad-338a0ef77031",
   "metadata": {},
   "outputs": [
    {
     "data": {
      "text/html": [
       "<table border='1'>\n",
       "<tr><th>n_nationkey</th><th>n_name</th><th>n_regionkey</th><th>n_comment</th><th>r_regionkey</th><th>r_name</th><th>r_comment</th></tr>\n",
       "<tr><td>0</td><td>ALGERIA</td><td>0</td><td> haggle. carefully final deposits detect slyly agai</td><td>0</td><td>AFRICA</td><td>lar deposits. blithely final packages cajole. regular waters are final requests. regular accounts are according to </td></tr>\n",
       "<tr><td>1</td><td>ARGENTINA</td><td>1</td><td>al foxes promise slyly according to the regular accounts. bold requests alon</td><td>1</td><td>AMERICA</td><td>hs use ironic, even requests. s</td></tr>\n",
       "<tr><td>2</td><td>BRAZIL</td><td>1</td><td>y alongside of the pending deposits. carefully special packages are about the ironic forges. slyly special </td><td>2</td><td>ASIA</td><td>ges. thinly even pinto beans ca</td></tr>\n",
       "<tr><td>3</td><td>CANADA</td><td>1</td><td>eas hang ironic, silent packages. slyly regular packages are furiously over the tithes. fluffily bold</td><td>3</td><td>EUROPE</td><td>ly final courts cajole furiously final excuse</td></tr>\n",
       "<tr><td>4</td><td>EGYPT</td><td>4</td><td>y above the carefully unusual theodolites. final dugouts are quickly across the furiously regular d</td><td>4</td><td>MIDDLE EAST</td><td>uickly special accounts cajole carefully blithely close requests. carefully final asymptotes haggle furiousl</td></tr>\n",
       "<tr><td>5</td><td>ETHIOPIA</td><td>0</td><td>ven packages wake quickly. regu</td><td>null</td><td>null</td><td>null</td></tr>\n",
       "<tr><td>6</td><td>FRANCE</td><td>3</td><td>refully final requests. regular, ironi</td><td>null</td><td>null</td><td>null</td></tr>\n",
       "<tr><td>7</td><td>GERMANY</td><td>3</td><td>l platelets. regular accounts x-ray: unusual, regular acco</td><td>null</td><td>null</td><td>null</td></tr>\n",
       "<tr><td>8</td><td>INDIA</td><td>2</td><td>ss excuses cajole slyly across the packages. deposits print aroun</td><td>null</td><td>null</td><td>null</td></tr>\n",
       "<tr><td>9</td><td>INDONESIA</td><td>2</td><td> slyly express asymptotes. regular deposits haggle slyly. carefully ironic hockey players sleep blithely. carefull</td><td>null</td><td>null</td><td>null</td></tr>\n",
       "</table>\n"
      ],
      "text/plain": [
       "+-----------+---------+-----------+------------------------------------------------------------------------------------------------------------------+-----------+-----------+-------------------------------------------------------------------------------------------------------------------+\n",
       "|n_nationkey|   n_name|n_regionkey|                                                                                                         n_comment|r_regionkey|     r_name|                                                                                                          r_comment|\n",
       "+-----------+---------+-----------+------------------------------------------------------------------------------------------------------------------+-----------+-----------+-------------------------------------------------------------------------------------------------------------------+\n",
       "|          0|  ALGERIA|          0|                                                                haggle. carefully final deposits detect slyly agai|          0|     AFRICA|lar deposits. blithely final packages cajole. regular waters are final requests. regular accounts are according to |\n",
       "|          1|ARGENTINA|          1|                                      al foxes promise slyly according to the regular accounts. bold requests alon|          1|    AMERICA|                                                                                    hs use ironic, even requests. s|\n",
       "|          2|   BRAZIL|          1|       y alongside of the pending deposits. carefully special packages are about the ironic forges. slyly special |          2|       ASIA|                                                                                    ges. thinly even pinto beans ca|\n",
       "|          3|   CANADA|          1|             eas hang ironic, silent packages. slyly regular packages are furiously over the tithes. fluffily bold|          3|     EUROPE|                                                                      ly final courts cajole furiously final excuse|\n",
       "|          4|    EGYPT|          4|               y above the carefully unusual theodolites. final dugouts are quickly across the furiously regular d|          4|MIDDLE EAST|       uickly special accounts cajole carefully blithely close requests. carefully final asymptotes haggle furiousl|\n",
       "|          5| ETHIOPIA|          0|                                                                                   ven packages wake quickly. regu|       null|       null|                                                                                                               null|\n",
       "|          6|   FRANCE|          3|                                                                            refully final requests. regular, ironi|       null|       null|                                                                                                               null|\n",
       "|          7|  GERMANY|          3|                                                        l platelets. regular accounts x-ray: unusual, regular acco|       null|       null|                                                                                                               null|\n",
       "|          8|    INDIA|          2|                                                 ss excuses cajole slyly across the packages. deposits print aroun|       null|       null|                                                                                                               null|\n",
       "|          9|INDONESIA|          2| slyly express asymptotes. regular deposits haggle slyly. carefully ironic hockey players sleep blithely. carefull|       null|       null|                                                                                                               null|\n",
       "+-----------+---------+-----------+------------------------------------------------------------------------------------------------------------------+-----------+-----------+-------------------------------------------------------------------------------------------------------------------+"
      ]
     },
     "execution_count": 56,
     "metadata": {},
     "output_type": "execute_result"
    }
   ],
   "source": [
    "df_nation.join(df_region, df_region.r_regionkey == df_nation.n_nationkey, \"outer\").limit(10)"
   ]
  },
  {
   "cell_type": "markdown",
   "id": "35a13ab8-ecc5-48f1-9bc6-275629020729",
   "metadata": {},
   "source": [
    "#### Save to file\n",
    "By default Spark saves files to parquet files but we can specify a other formats like json, csv\n",
    "<br>Spark will save one file per partition, generate metadata, etc. Examples: https://spark.apache.org/docs/latest/sql-data-sources-csv.html\n",
    "<br>A cleaner and easier solution is to use Pandas https://pandas.pydata.org/docs/reference/api/pandas.DataFrame.to_csv.html\n"
   ]
  },
  {
   "cell_type": "code",
   "execution_count": 58,
   "id": "67fc0f6e-fffd-405b-8eca-6fc66497d43c",
   "metadata": {},
   "outputs": [],
   "source": [
    "df_region.join(df_nation, df_region.r_regionkey == df_nation.n_regionkey).select('r_name', 'n_name').where(F.col('r_name') == 'AFRICA') \\\n",
    "    .toPandas() \\\n",
    "    .to_csv('myFile.csv', sep=';', encoding='utf-8', index=False)"
   ]
  },
  {
   "cell_type": "markdown",
   "id": "60452d62-2e07-421d-9090-bb8e4927cf02",
   "metadata": {},
   "source": [
    "##### Stopping spark session"
   ]
  },
  {
   "cell_type": "code",
   "execution_count": 59,
   "id": "e3defb4e-181e-4ebd-8ceb-78dafff7827b",
   "metadata": {},
   "outputs": [],
   "source": [
    "spark.stop()"
   ]
  },
  {
   "cell_type": "markdown",
   "id": "9562b3c8-a896-4f30-a56b-797e8b564fca",
   "metadata": {},
   "source": [
    "###### End / Fin / Koniec"
   ]
  }
 ],
 "metadata": {
  "kernelspec": {
   "display_name": "Python 3 (ipykernel)",
   "language": "python",
   "name": "python3"
  },
  "language_info": {
   "codemirror_mode": {
    "name": "ipython",
    "version": 3
   },
   "file_extension": ".py",
   "mimetype": "text/x-python",
   "name": "python",
   "nbconvert_exporter": "python",
   "pygments_lexer": "ipython3",
   "version": "3.9.7"
  }
 },
 "nbformat": 4,
 "nbformat_minor": 5
}
